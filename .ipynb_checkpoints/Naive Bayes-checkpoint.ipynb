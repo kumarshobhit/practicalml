{
 "cells": [
  {
   "cell_type": "code",
   "execution_count": 19,
   "metadata": {
    "collapsed": true
   },
   "outputs": [],
   "source": [
    "import numpy as np\n",
    "from sklearn.cross_validation import train_test_split"
   ]
  },
  {
   "cell_type": "code",
   "execution_count": 20,
   "metadata": {
    "collapsed": true
   },
   "outputs": [],
   "source": [
    "datafile = open('../data/spambase.data','r')\n",
    "data = []\n",
    "for line in datafile:\n",
    "    line = [float(element) for element in line.rstrip('\\n').split(',')]\n",
    "    data.append(np.asarray(line))"
   ]
  },
  {
   "cell_type": "code",
   "execution_count": 21,
   "metadata": {},
   "outputs": [],
   "source": [
    "num_features = 48\n",
    "X = [data[i][:num_features] for i in range(len(data))]\n",
    "y = [int(data[i][-1]) for i in range(len(data))]"
   ]
  },
  {
   "cell_type": "code",
   "execution_count": 22,
   "metadata": {},
   "outputs": [],
   "source": [
    "X_train, X_test, y_train, y_test = train_test_split(X, y, test_size=0.25, random_state=42)"
   ]
  },
  {
   "cell_type": "code",
   "execution_count": 23,
   "metadata": {},
   "outputs": [],
   "source": [
    "#Making likelihood estimations\n",
    "\n",
    "#Find the two classes\n",
    "X_train_class_0 = [X_train[i] for i in range(len(X_train)) if y_train[i]==0]\n",
    "X_train_class_1 = [X_train[i] for i in range(len(X_train)) if y_train[i]==1]\n",
    "\n",
    "#Find the class specific likelihoods of each feature\n",
    "likelihoods_class_0 = np.mean(X_train_class_0, axis=0)/100.0\n",
    "likelihoods_class_1 = np.mean(X_train_class_1, axis=0)/100.0\n"
   ]
  },
  {
   "cell_type": "code",
   "execution_count": 24,
   "metadata": {
    "collapsed": true
   },
   "outputs": [],
   "source": [
    "#Calculate the class priors\n",
    "num_class_0 = float(len(X_train_class_0))\n",
    "num_class_1 = float(len(X_train_class_1))\n",
    "\n",
    "prior_probability_class_0 = num_class_0 / (num_class_0 + num_class_1)\n",
    "prior_probability_class_1 = num_class_1 / (num_class_0 + num_class_1)\n",
    "\n",
    "log_prior_class_0 = np.log10(prior_probability_class_0)\n",
    "log_prior_class_1 = np.log10(prior_probability_class_1)"
   ]
  },
  {
   "cell_type": "code",
   "execution_count": 25,
   "metadata": {},
   "outputs": [],
   "source": [
    "def calculate_log_likelihoods_with_naive_bayes(feature_vector, Class):\n",
    "    assert len(feature_vector) == num_features\n",
    "    log_likelihood = 0.0 #using log-likelihood to avoid underflow\n",
    "    if Class==0:\n",
    "        for feature_index in range(len(feature_vector)):\n",
    "            if feature_vector[feature_index] == 1: #feature present\n",
    "                log_likelihood += np.log10(likelihoods_class_0[feature_index]) \n",
    "            elif feature_vector[feature_index] == 0: #feature absent\n",
    "                log_likelihood += np.log10(1.0 - likelihoods_class_0[feature_index])\n",
    "    elif Class==1:\n",
    "        for feature_index in range(len(feature_vector)):\n",
    "            if feature_vector[feature_index] == 1: #feature present\n",
    "                log_likelihood += np.log10(likelihoods_class_1[feature_index]) \n",
    "            elif feature_vector[feature_index] == 0: #feature absent\n",
    "                log_likelihood += np.log10(1.0 - likelihoods_class_1[feature_index])\n",
    "    else:\n",
    "        raise ValueError(\"Class takes integer values 0 or 1\")\n",
    "        \n",
    "    return log_likelihood"
   ]
  },
  {
   "cell_type": "code",
   "execution_count": 26,
   "metadata": {
    "collapsed": true
   },
   "outputs": [],
   "source": [
    "def calculate_class_posteriors(feature_vector):\n",
    "    log_likelihood_class_0 = calculate_log_likelihoods_with_naive_bayes(feature_vector, Class=0)\n",
    "    log_likelihood_class_1 = calculate_log_likelihoods_with_naive_bayes(feature_vector, Class=1)\n",
    "    \n",
    "    log_posterior_class_0 = log_likelihood_class_0 + log_prior_class_0\n",
    "    log_posterior_class_1 = log_likelihood_class_1 + log_prior_class_1\n",
    "    \n",
    "    return log_posterior_class_0, log_posterior_class_1"
   ]
  },
  {
   "cell_type": "code",
   "execution_count": 31,
   "metadata": {
    "collapsed": true
   },
   "outputs": [],
   "source": [
    "def classify_spam(document_vector):\n",
    "    feature_vector = [int(element>0.0) for element in document_vector]\n",
    "    log_posterior_class_0, log_posterior_class_1 = calculate_class_posteriors(feature_vector)\n",
    "    if log_posterior_class_0 > log_posterior_class_1:\n",
    "        return 0\n",
    "    else:\n",
    "        return 1"
   ]
  },
  {
   "cell_type": "code",
   "execution_count": 32,
   "metadata": {},
   "outputs": [],
   "source": [
    "#Predict spam or not on the test set\n",
    "predictions = []\n",
    "for email in X_test:\n",
    "    predictions.append(classify_spam(email))\n",
    "    \n"
   ]
  },
  {
   "cell_type": "code",
   "execution_count": 48,
   "metadata": {},
   "outputs": [],
   "source": [
    "def evaluate_performance(predictions, ground_truth_labels):\n",
    "    correct_count = 0.0\n",
    "    for item_index in range(len(predictions)):\n",
    "        if predictions[item_index] == ground_truth_labels[item_index]:\n",
    "            correct_count += 1.0\n",
    "    accuracy = correct_count/len(predictions)\n",
    "    return accuracy"
   ]
  },
  {
   "cell_type": "code",
   "execution_count": 49,
   "metadata": {},
   "outputs": [
    {
     "name": "stdout",
     "output_type": "stream",
     "text": [
      "0.892267593397\n"
     ]
    }
   ],
   "source": [
    "accuracy_of_naive_bayes = evaluate_performance(predictions, y_test)\n",
    "print accuracy_of_naive_bayes"
   ]
  },
  {
   "cell_type": "code",
   "execution_count": 50,
   "metadata": {},
   "outputs": [
    {
     "name": "stdout",
     "output_type": "stream",
     "text": [
      "0 0\n",
      "1 0\n",
      "0 0\n",
      "1 1\n",
      "0 0\n",
      "1 1\n",
      "0 0\n",
      "0 0\n",
      "0 0\n",
      "1 0\n",
      "0 0\n",
      "1 0\n",
      "0 0\n",
      "1 1\n",
      "1 1\n",
      "0 0\n",
      "1 1\n",
      "0 1\n",
      "1 1\n",
      "0 0\n",
      "0 0\n",
      "1 1\n",
      "0 1\n",
      "0 0\n",
      "1 1\n",
      "0 0\n",
      "1 1\n",
      "0 0\n",
      "1 1\n",
      "1 1\n",
      "1 1\n",
      "1 1\n",
      "0 0\n",
      "1 0\n",
      "0 0\n",
      "0 0\n",
      "1 1\n",
      "1 1\n",
      "1 0\n",
      "1 1\n",
      "1 1\n",
      "0 0\n",
      "0 0\n",
      "0 0\n",
      "1 1\n",
      "1 1\n",
      "1 1\n",
      "0 0\n",
      "0 1\n",
      "1 1\n",
      "1 1\n",
      "0 0\n",
      "0 0\n",
      "1 1\n",
      "0 0\n",
      "0 0\n",
      "0 0\n",
      "0 0\n",
      "0 0\n",
      "0 0\n",
      "1 1\n",
      "0 0\n",
      "1 1\n",
      "1 1\n",
      "1 1\n",
      "0 0\n",
      "0 0\n",
      "0 0\n",
      "1 1\n",
      "0 0\n",
      "1 0\n",
      "0 0\n",
      "0 0\n",
      "1 1\n",
      "1 1\n",
      "0 0\n",
      "0 0\n",
      "0 0\n",
      "0 0\n",
      "1 1\n",
      "0 0\n",
      "0 0\n",
      "0 0\n",
      "0 0\n",
      "0 0\n",
      "0 0\n",
      "1 1\n",
      "1 1\n",
      "1 1\n",
      "1 0\n",
      "1 1\n",
      "1 1\n",
      "0 0\n",
      "0 1\n",
      "0 0\n",
      "0 0\n",
      "1 1\n",
      "1 0\n",
      "1 1\n",
      "1 1\n"
     ]
    }
   ],
   "source": [
    "for i in range(100):\n",
    "    print predictions[i], y_test[i]"
   ]
  }
 ],
 "metadata": {
  "kernelspec": {
   "display_name": "Python 3",
   "language": "python",
   "name": "python3"
  },
  "language_info": {
   "codemirror_mode": {
    "name": "ipython",
    "version": 3
   },
   "file_extension": ".py",
   "mimetype": "text/x-python",
   "name": "python",
   "nbconvert_exporter": "python",
   "pygments_lexer": "ipython3",
   "version": "3.8.8"
  }
 },
 "nbformat": 4,
 "nbformat_minor": 1
}
